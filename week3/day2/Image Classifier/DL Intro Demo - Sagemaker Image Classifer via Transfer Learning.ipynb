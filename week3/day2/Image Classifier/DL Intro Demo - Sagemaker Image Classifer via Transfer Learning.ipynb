{
 "cells": [
  {
   "cell_type": "markdown",
   "metadata": {},
   "source": [
    "# Training and Deploying a Custom Image Classifier with Amazon SageMaker"
   ]
  },
  {
   "cell_type": "markdown",
   "metadata": {},
   "source": [
    "## Configure where to fetch our training data\n",
    "\n",
    "All of our images live inside an S3 bucket, organized into folders in a structure similar to this:\n",
    "\n",
    "```\n",
    "my_training_classes\n",
    "├── person\n",
    "│   ├── han.jpg\n",
    "│   ├── leia.jpg\n",
    "|   ├── luke.jpg\n",
    "│   └── . . .\n",
    "└── ship\n",
    "│   ├── millenium_falcon.jpg\n",
    "│   ├── tie-fighter.jpg    \n",
    "│   ├── x-wing.jpg\n",
    "│   ├── . . .\n",
    "└── . . .\n",
    "```"
   ]
  },
  {
   "cell_type": "code",
   "execution_count": 1,
   "metadata": {},
   "outputs": [],
   "source": [
    "!aws s3 sync ./public/andre-dataset/ s3://andre-imageclassifier-dataset/public/andre-dataset"
   ]
  },
  {
   "cell_type": "code",
   "execution_count": 2,
   "metadata": {},
   "outputs": [],
   "source": [
    "# An S3 Bucket Name\n",
    "#data_bucket_name='webcams3uploader9eac7e7f40fe47e2ad612f4840325c7194445-dev'\n",
    "data_bucket_name='andre-imageclassifier-dataset'\n",
    "\n",
    "# A prefix name inside the S3 bucket containing sub-folders of images (one per label class)\n",
    "dataset_name = 'andre-dataset' "
   ]
  },
  {
   "cell_type": "markdown",
   "metadata": {},
   "source": [
    "## Setting up the environment\n",
    "Here we set up the linkage and authentication to AWS services\n",
    "\n",
    "- The role used to give learning and hosting access to your data. This will automatically be obtained from the role used to start the notebook\n",
    "- A `session` variable that holds some configuration state for interacting with SageMaker from Python and contains some methods for preparing input data\n",
    "- A reference to the Amazon sagemaker image classification docker image \n",
    "\n",
    "More info about the SageMaker built-in Image Classification algorithm here: https://docs.aws.amazon.com/sagemaker/latest/dg/image-classification.html"
   ]
  },
  {
   "cell_type": "code",
   "execution_count": 3,
   "metadata": {},
   "outputs": [],
   "source": [
    "import sagemaker\n",
    "from sagemaker import get_execution_role\n",
    "from sagemaker.amazon.amazon_estimator import get_image_uri\n",
    "\n",
    "role = get_execution_role()\n",
    "sess = sagemaker.Session()\n",
    "\n",
    "training_image = get_image_uri(sess.boto_region_name, 'image-classification', repo_version=\"latest\")"
   ]
  },
  {
   "cell_type": "markdown",
   "metadata": {},
   "source": [
    "## Preparing data for our model\n",
    "Before we can train our model, we need to:\n",
    "\n",
    "- Create some files that will teach SageMaker about the images in each of our classes\n",
    "- Upload these additional files to S3\n",
    "- Configure our model to use these files for training and validating"
   ]
  },
  {
   "cell_type": "markdown",
   "metadata": {},
   "source": [
    "### Find the im2rec.py script on this system\n",
    "The SageMaker image classifier algorithm needs to know about which images belong to which classes. We provide this data using either LST or RecordIO files. We'll use a python script called `im2rec.py` to create these files.\n",
    "\n",
    "More info here: https://docs.aws.amazon.com/sagemaker/latest/dg/image-classification.html#IC-inputoutput"
   ]
  },
  {
   "cell_type": "code",
   "execution_count": 4,
   "metadata": {},
   "outputs": [
    {
     "name": "stdout",
     "output_type": "stream",
     "text": [
      "env: BASE_DIR=/tmp\n",
      "env: S3_DATA_BUCKET_NAME=andre-imageclassifier-dataset\n",
      "env: DATASET_NAME=andre-dataset\n",
      "env: IM2REC=/home/ec2-user/anaconda3/envs/mxnet_p36/lib/python3.6/site-packages/mxnet/tools/im2rec.py\n"
     ]
    }
   ],
   "source": [
    "# Find im2rec in our environment and set up some other vars in our environemnt\n",
    "\n",
    "base_dir='/tmp'\n",
    "\n",
    "%env BASE_DIR=$base_dir\n",
    "%env S3_DATA_BUCKET_NAME = $data_bucket_name\n",
    "%env DATASET_NAME = $dataset_name\n",
    "\n",
    "import sys,os\n",
    "\n",
    "suffix='/mxnet/tools/im2rec.py'\n",
    "im2rec = list(filter( (lambda x: os.path.isfile(x + suffix )), sys.path))[0] + suffix\n",
    "%env IM2REC=$im2rec"
   ]
  },
  {
   "cell_type": "markdown",
   "metadata": {},
   "source": [
    "### Get our training images from S3\n",
    "In order to create training and validation RecordIO files, we need to download our images to our local filesystem."
   ]
  },
  {
   "cell_type": "code",
   "execution_count": 6,
   "metadata": {},
   "outputs": [
    {
     "name": "stdout",
     "output_type": "stream",
     "text": [
      "download: s3://andre-imageclassifier-dataset/public/andre-dataset/books/145a1501-499e-4776-b39f-6838ec37de51.jpg to ../../../../tmp/andre-dataset/books/145a1501-499e-4776-b39f-6838ec37de51.jpg\n",
      "download: s3://andre-imageclassifier-dataset/public/andre-dataset/README.md to ../../../../tmp/andre-dataset/README.md\n",
      "download: s3://andre-imageclassifier-dataset/public/andre-dataset/books/0a9166f9-b321-4469-9b68-c248cd79078f.jpg to ../../../../tmp/andre-dataset/books/0a9166f9-b321-4469-9b68-c248cd79078f.jpg\n",
      "download: s3://andre-imageclassifier-dataset/public/andre-dataset/books/1be8b224-76a9-432d-b77a-af613a0f46f9.jpg to ../../../../tmp/andre-dataset/books/1be8b224-76a9-432d-b77a-af613a0f46f9.jpg\n",
      "download: s3://andre-imageclassifier-dataset/public/andre-dataset/books/38a46235-a0e8-4137-b759-f5ffba26b3b1.jpg to ../../../../tmp/andre-dataset/books/38a46235-a0e8-4137-b759-f5ffba26b3b1.jpg\n",
      "download: s3://andre-imageclassifier-dataset/public/andre-dataset/books/5c58f73d-5152-4b63-8ce8-843d04aa6ed1.jpg to ../../../../tmp/andre-dataset/books/5c58f73d-5152-4b63-8ce8-843d04aa6ed1.jpg\n",
      "download: s3://andre-imageclassifier-dataset/public/andre-dataset/books/28f00072-1522-43cf-b9a4-07b82b1a1c30.jpg to ../../../../tmp/andre-dataset/books/28f00072-1522-43cf-b9a4-07b82b1a1c30.jpg\n",
      "download: s3://andre-imageclassifier-dataset/public/andre-dataset/books/6488a152-e575-459d-a26a-914869d35a34.jpg to ../../../../tmp/andre-dataset/books/6488a152-e575-459d-a26a-914869d35a34.jpg\n",
      "download: s3://andre-imageclassifier-dataset/public/andre-dataset/books/36b2d6da-1d9b-480a-9d35-e0c99d398950.jpg to ../../../../tmp/andre-dataset/books/36b2d6da-1d9b-480a-9d35-e0c99d398950.jpg\n",
      "download: s3://andre-imageclassifier-dataset/public/andre-dataset/books/580558c9-dc55-406f-a1a8-bc3881f3ee5d.jpg to ../../../../tmp/andre-dataset/books/580558c9-dc55-406f-a1a8-bc3881f3ee5d.jpg\n",
      "download: s3://andre-imageclassifier-dataset/public/andre-dataset/books/75c6ac53-cb05-486a-980d-77c1781c0d4d.jpg to ../../../../tmp/andre-dataset/books/75c6ac53-cb05-486a-980d-77c1781c0d4d.jpg\n",
      "download: s3://andre-imageclassifier-dataset/public/andre-dataset/books/76942db5-e0dc-4ce8-9a98-14e7375b6e8d.jpg to ../../../../tmp/andre-dataset/books/76942db5-e0dc-4ce8-9a98-14e7375b6e8d.jpg\n",
      "download: s3://andre-imageclassifier-dataset/public/andre-dataset/books/927e5a8c-4f85-4862-b906-3df6009bcce7.jpg to ../../../../tmp/andre-dataset/books/927e5a8c-4f85-4862-b906-3df6009bcce7.jpg\n",
      "download: s3://andre-imageclassifier-dataset/public/andre-dataset/books/b133c6af-0c1f-4176-a313-d71a7ab7873e.jpg to ../../../../tmp/andre-dataset/books/b133c6af-0c1f-4176-a313-d71a7ab7873e.jpg\n",
      "download: s3://andre-imageclassifier-dataset/public/andre-dataset/books/a00a66f6-179d-4504-8b81-eccf66c064c9.jpg to ../../../../tmp/andre-dataset/books/a00a66f6-179d-4504-8b81-eccf66c064c9.jpg\n",
      "download: s3://andre-imageclassifier-dataset/public/andre-dataset/books/5d9b6afe-ed2e-4fd7-aeb1-ac6d24816ed3.jpg to ../../../../tmp/andre-dataset/books/5d9b6afe-ed2e-4fd7-aeb1-ac6d24816ed3.jpg\n",
      "download: s3://andre-imageclassifier-dataset/public/andre-dataset/books/9906212e-df6c-464c-afaf-7afc10cce04a.jpg to ../../../../tmp/andre-dataset/books/9906212e-df6c-464c-afaf-7afc10cce04a.jpg\n",
      "download: s3://andre-imageclassifier-dataset/public/andre-dataset/books/c3ab1dc5-5ac4-4513-beed-390fe76116a4.jpg to ../../../../tmp/andre-dataset/books/c3ab1dc5-5ac4-4513-beed-390fe76116a4.jpg\n",
      "download: s3://andre-imageclassifier-dataset/public/andre-dataset/books/979b54a1-74ec-4745-a6da-76912426f42c.jpg to ../../../../tmp/andre-dataset/books/979b54a1-74ec-4745-a6da-76912426f42c.jpg\n",
      "download: s3://andre-imageclassifier-dataset/public/andre-dataset/books/ca8a247e-743e-4340-9f62-527c250dc208.jpg to ../../../../tmp/andre-dataset/books/ca8a247e-743e-4340-9f62-527c250dc208.jpg\n",
      "download: s3://andre-imageclassifier-dataset/public/andre-dataset/books/c898ebd0-70b4-4109-b9ee-3c0704593f45.jpg to ../../../../tmp/andre-dataset/books/c898ebd0-70b4-4109-b9ee-3c0704593f45.jpg\n",
      "download: s3://andre-imageclassifier-dataset/public/andre-dataset/faces/068b9f1e-cd23-4f2e-9d04-107859f745dd.jpg to ../../../../tmp/andre-dataset/faces/068b9f1e-cd23-4f2e-9d04-107859f745dd.jpg\n",
      "download: s3://andre-imageclassifier-dataset/public/andre-dataset/faces/0a21e8bd-1599-4abd-a6ff-1fb1d3cd6abe.jpg to ../../../../tmp/andre-dataset/faces/0a21e8bd-1599-4abd-a6ff-1fb1d3cd6abe.jpg\n",
      "download: s3://andre-imageclassifier-dataset/public/andre-dataset/books/f0396974-890b-4ea6-a141-e7b7dcb215a0.jpg to ../../../../tmp/andre-dataset/books/f0396974-890b-4ea6-a141-e7b7dcb215a0.jpg\n",
      "download: s3://andre-imageclassifier-dataset/public/andre-dataset/faces/1cd34eb3-53a5-4b69-9dd8-1cc73a170691.jpg to ../../../../tmp/andre-dataset/faces/1cd34eb3-53a5-4b69-9dd8-1cc73a170691.jpg\n",
      "download: s3://andre-imageclassifier-dataset/public/andre-dataset/books/f831ca71-c8db-45c9-ae09-9a7a6a41e509.jpg to ../../../../tmp/andre-dataset/books/f831ca71-c8db-45c9-ae09-9a7a6a41e509.jpg\n",
      "download: s3://andre-imageclassifier-dataset/public/andre-dataset/faces/0e09dfb8-4604-441e-8724-af8a0cf2b454.jpg to ../../../../tmp/andre-dataset/faces/0e09dfb8-4604-441e-8724-af8a0cf2b454.jpg\n",
      "download: s3://andre-imageclassifier-dataset/public/andre-dataset/faces/1da69db0-8d71-4c50-a19a-46c1380c7ae9.jpg to ../../../../tmp/andre-dataset/faces/1da69db0-8d71-4c50-a19a-46c1380c7ae9.jpg\n",
      "download: s3://andre-imageclassifier-dataset/public/andre-dataset/faces/0e8722f3-cdf7-42e0-8ac5-62675adc33a6.jpg to ../../../../tmp/andre-dataset/faces/0e8722f3-cdf7-42e0-8ac5-62675adc33a6.jpg\n",
      "download: s3://andre-imageclassifier-dataset/public/andre-dataset/faces/25998826-72cc-4b0e-bdf0-67310dbd4abd.jpg to ../../../../tmp/andre-dataset/faces/25998826-72cc-4b0e-bdf0-67310dbd4abd.jpg\n",
      "download: s3://andre-imageclassifier-dataset/public/andre-dataset/faces/2b5df5f4-d209-4ec3-af1f-9cf21fcb72e5.jpg to ../../../../tmp/andre-dataset/faces/2b5df5f4-d209-4ec3-af1f-9cf21fcb72e5.jpg\n",
      "download: s3://andre-imageclassifier-dataset/public/andre-dataset/faces/24ab640d-4884-49e6-8bb3-4931f34eac6b.jpg to ../../../../tmp/andre-dataset/faces/24ab640d-4884-49e6-8bb3-4931f34eac6b.jpg\n",
      "download: s3://andre-imageclassifier-dataset/public/andre-dataset/faces/6620d318-90f0-45aa-afe7-e586fad041cb.jpg to ../../../../tmp/andre-dataset/faces/6620d318-90f0-45aa-afe7-e586fad041cb.jpg\n",
      "download: s3://andre-imageclassifier-dataset/public/andre-dataset/faces/5228ff4b-33ad-4a00-9d2d-fb83bc39de56.jpg to ../../../../tmp/andre-dataset/faces/5228ff4b-33ad-4a00-9d2d-fb83bc39de56.jpg\n",
      "download: s3://andre-imageclassifier-dataset/public/andre-dataset/books/e0915e0b-43b7-4583-bfb1-cc2857795e59.jpg to ../../../../tmp/andre-dataset/books/e0915e0b-43b7-4583-bfb1-cc2857795e59.jpg\n",
      "download: s3://andre-imageclassifier-dataset/public/andre-dataset/books/b5bd5257-2568-4e06-8459-fa214f2f418c.jpg to ../../../../tmp/andre-dataset/books/b5bd5257-2568-4e06-8459-fa214f2f418c.jpg\n",
      "download: s3://andre-imageclassifier-dataset/public/andre-dataset/faces/66cf7642-f4d4-4a6b-b393-82833ef02f60.jpg to ../../../../tmp/andre-dataset/faces/66cf7642-f4d4-4a6b-b393-82833ef02f60.jpg\n",
      "download: s3://andre-imageclassifier-dataset/public/andre-dataset/faces/4cf3448c-dad9-4440-bc30-62ae254e8d2e.jpg to ../../../../tmp/andre-dataset/faces/4cf3448c-dad9-4440-bc30-62ae254e8d2e.jpg\n",
      "download: s3://andre-imageclassifier-dataset/public/andre-dataset/faces/45d646d0-1101-4892-be3f-38ae6466ba11.jpg to ../../../../tmp/andre-dataset/faces/45d646d0-1101-4892-be3f-38ae6466ba11.jpg\n",
      "download: s3://andre-imageclassifier-dataset/public/andre-dataset/faces/3be4dcf7-87fd-4749-9b48-5760d6a4eb69.jpg to ../../../../tmp/andre-dataset/faces/3be4dcf7-87fd-4749-9b48-5760d6a4eb69.jpg\n",
      "download: s3://andre-imageclassifier-dataset/public/andre-dataset/faces/72201bd4-942b-4628-a66f-dea247f35830.jpg to ../../../../tmp/andre-dataset/faces/72201bd4-942b-4628-a66f-dea247f35830.jpg\n",
      "download: s3://andre-imageclassifier-dataset/public/andre-dataset/faces/73d1d1c3-f151-441c-8239-3d59d46a4eb5.jpg to ../../../../tmp/andre-dataset/faces/73d1d1c3-f151-441c-8239-3d59d46a4eb5.jpg\n",
      "download: s3://andre-imageclassifier-dataset/public/andre-dataset/faces/84c3583d-18ad-4f4d-bcd1-fdf0b2f0e0d8.jpg to ../../../../tmp/andre-dataset/faces/84c3583d-18ad-4f4d-bcd1-fdf0b2f0e0d8.jpg\n",
      "download: s3://andre-imageclassifier-dataset/public/andre-dataset/faces/68a57d8c-ad56-4b40-be60-afd39817b993.jpg to ../../../../tmp/andre-dataset/faces/68a57d8c-ad56-4b40-be60-afd39817b993.jpg\n",
      "download: s3://andre-imageclassifier-dataset/public/andre-dataset/faces/3d713789-b833-4a96-bc4b-a66e318fb0b0.jpg to ../../../../tmp/andre-dataset/faces/3d713789-b833-4a96-bc4b-a66e318fb0b0.jpg\n",
      "download: s3://andre-imageclassifier-dataset/public/andre-dataset/faces/8b7f9661-3c68-458b-ae80-8938fd566b6b.jpg to ../../../../tmp/andre-dataset/faces/8b7f9661-3c68-458b-ae80-8938fd566b6b.jpg\n",
      "download: s3://andre-imageclassifier-dataset/public/andre-dataset/faces/897a4148-c949-4176-b248-402c1eb29851.jpg to ../../../../tmp/andre-dataset/faces/897a4148-c949-4176-b248-402c1eb29851.jpg\n",
      "download: s3://andre-imageclassifier-dataset/public/andre-dataset/faces/6b068a4c-5843-4314-b160-cda1189abd19.jpg to ../../../../tmp/andre-dataset/faces/6b068a4c-5843-4314-b160-cda1189abd19.jpg\n",
      "download: s3://andre-imageclassifier-dataset/public/andre-dataset/faces/92a4bf82-6e8c-4b70-9aab-8c4fd07f8047.jpg to ../../../../tmp/andre-dataset/faces/92a4bf82-6e8c-4b70-9aab-8c4fd07f8047.jpg\n",
      "download: s3://andre-imageclassifier-dataset/public/andre-dataset/faces/9851419c-09b2-4b4c-8b22-614763fa6df5.jpg to ../../../../tmp/andre-dataset/faces/9851419c-09b2-4b4c-8b22-614763fa6df5.jpg\n",
      "download: s3://andre-imageclassifier-dataset/public/andre-dataset/faces/89f7c1af-e0d7-49cf-a84f-804ab607471e.jpg to ../../../../tmp/andre-dataset/faces/89f7c1af-e0d7-49cf-a84f-804ab607471e.jpg\n",
      "download: s3://andre-imageclassifier-dataset/public/andre-dataset/faces/7a4ac6ab-54ea-4821-b542-5e6de542fff7.jpg to ../../../../tmp/andre-dataset/faces/7a4ac6ab-54ea-4821-b542-5e6de542fff7.jpg\n",
      "download: s3://andre-imageclassifier-dataset/public/andre-dataset/faces/b033c739-fd21-4a5c-a0b2-acac4ab904ef.jpg to ../../../../tmp/andre-dataset/faces/b033c739-fd21-4a5c-a0b2-acac4ab904ef.jpg\n",
      "download: s3://andre-imageclassifier-dataset/public/andre-dataset/faces/9bdc53f0-a92e-4c35-93f3-f8fa87bf14b9.jpg to ../../../../tmp/andre-dataset/faces/9bdc53f0-a92e-4c35-93f3-f8fa87bf14b9.jpg\n",
      "download: s3://andre-imageclassifier-dataset/public/andre-dataset/faces/92b3e1de-c305-4cfe-9ce0-0259fe7300f8.jpg to ../../../../tmp/andre-dataset/faces/92b3e1de-c305-4cfe-9ce0-0259fe7300f8.jpg\n",
      "download: s3://andre-imageclassifier-dataset/public/andre-dataset/faces/9872c570-174d-4972-867e-248d16351343.jpg to ../../../../tmp/andre-dataset/faces/9872c570-174d-4972-867e-248d16351343.jpg\n",
      "download: s3://andre-imageclassifier-dataset/public/andre-dataset/faces/8f5267a2-9592-4b90-aed6-9b98a23b3062.jpg to ../../../../tmp/andre-dataset/faces/8f5267a2-9592-4b90-aed6-9b98a23b3062.jpg\n",
      "download: s3://andre-imageclassifier-dataset/public/andre-dataset/faces/b0e2606d-111d-4f21-8101-f1b2ef26d95e.jpg to ../../../../tmp/andre-dataset/faces/b0e2606d-111d-4f21-8101-f1b2ef26d95e.jpg\n",
      "download: s3://andre-imageclassifier-dataset/public/andre-dataset/faces/d3dee393-2321-418b-bb83-97154a0ba189.jpg to ../../../../tmp/andre-dataset/faces/d3dee393-2321-418b-bb83-97154a0ba189.jpg\n",
      "download: s3://andre-imageclassifier-dataset/public/andre-dataset/faces/b8091f11-3fc1-418a-836f-f9002e653e4f.jpg to ../../../../tmp/andre-dataset/faces/b8091f11-3fc1-418a-836f-f9002e653e4f.jpg\n",
      "download: s3://andre-imageclassifier-dataset/public/andre-dataset/faces/be6f58f8-12e5-4391-9e78-4720f951f09f.jpg to ../../../../tmp/andre-dataset/faces/be6f58f8-12e5-4391-9e78-4720f951f09f.jpg\n",
      "download: s3://andre-imageclassifier-dataset/public/andre-dataset/faces/cc634e31-a4ca-4322-9ee8-63bf8047b599.jpg to ../../../../tmp/andre-dataset/faces/cc634e31-a4ca-4322-9ee8-63bf8047b599.jpg\n",
      "download: s3://andre-imageclassifier-dataset/public/andre-dataset/faces/f03d16e6-f8ca-4235-bc13-7c155dbd7405.jpg to ../../../../tmp/andre-dataset/faces/f03d16e6-f8ca-4235-bc13-7c155dbd7405.jpg\n",
      "download: s3://andre-imageclassifier-dataset/public/andre-dataset/faces/f1297f18-a4e0-4c27-9803-bb19ad1f046f.jpg to ../../../../tmp/andre-dataset/faces/f1297f18-a4e0-4c27-9803-bb19ad1f046f.jpg\n",
      "download: s3://andre-imageclassifier-dataset/public/andre-dataset/faces/ba9b3c17-d6ed-451a-9573-063d343d2c6b.jpg to ../../../../tmp/andre-dataset/faces/ba9b3c17-d6ed-451a-9573-063d343d2c6b.jpg\n",
      "download: s3://andre-imageclassifier-dataset/public/andre-dataset/faces/bfe30a23-7544-4691-94de-8403e46a6693.jpg to ../../../../tmp/andre-dataset/faces/bfe30a23-7544-4691-94de-8403e46a6693.jpg\n",
      "download: s3://andre-imageclassifier-dataset/public/andre-dataset/faces/f48be09d-fe18-48ba-a922-b531e31bf395.jpg to ../../../../tmp/andre-dataset/faces/f48be09d-fe18-48ba-a922-b531e31bf395.jpg\n",
      "download: s3://andre-imageclassifier-dataset/public/andre-dataset/faces/d61155a5-1946-4498-a727-feaad22e97df.jpg to ../../../../tmp/andre-dataset/faces/d61155a5-1946-4498-a727-feaad22e97df.jpg\n",
      "download: s3://andre-imageclassifier-dataset/public/andre-dataset/faces/c8c37d41-f081-478c-9e06-87331e896bd3.jpg to ../../../../tmp/andre-dataset/faces/c8c37d41-f081-478c-9e06-87331e896bd3.jpg\n",
      "download: s3://andre-imageclassifier-dataset/public/andre-dataset/faces/e60c89fc-b8ef-4e20-8e57-ed91d4c3ac4b.jpg to ../../../../tmp/andre-dataset/faces/e60c89fc-b8ef-4e20-8e57-ed91d4c3ac4b.jpg\n",
      "download: s3://andre-imageclassifier-dataset/public/andre-dataset/faces/f5b4063a-937b-45c2-a281-ce8d78516f6c.jpg to ../../../../tmp/andre-dataset/faces/f5b4063a-937b-45c2-a281-ce8d78516f6c.jpg\n",
      "download: s3://andre-imageclassifier-dataset/public/andre-dataset/faces/f0429e06-78d9-4c66-befa-c7bc1ca5c65c.jpg to ../../../../tmp/andre-dataset/faces/f0429e06-78d9-4c66-befa-c7bc1ca5c65c.jpg\n",
      "download: s3://andre-imageclassifier-dataset/public/andre-dataset/faces/fc1d2a79-f122-43e7-a9c1-1f21fb1159a1.jpg to ../../../../tmp/andre-dataset/faces/fc1d2a79-f122-43e7-a9c1-1f21fb1159a1.jpg\n",
      "download: s3://andre-imageclassifier-dataset/public/andre-dataset/remotes/0328aab7-5320-4b72-b618-97d73e998451.jpg to ../../../../tmp/andre-dataset/remotes/0328aab7-5320-4b72-b618-97d73e998451.jpg\n",
      "download: s3://andre-imageclassifier-dataset/public/andre-dataset/remotes/0820fb93-1f8a-408a-83a6-8e65b684cdfa.jpg to ../../../../tmp/andre-dataset/remotes/0820fb93-1f8a-408a-83a6-8e65b684cdfa.jpg\n",
      "download: s3://andre-imageclassifier-dataset/public/andre-dataset/remotes/3958757f-515e-44f3-acda-20b5a2451380.jpg to ../../../../tmp/andre-dataset/remotes/3958757f-515e-44f3-acda-20b5a2451380.jpg\n",
      "download: s3://andre-imageclassifier-dataset/public/andre-dataset/faces/f685cea0-d277-4624-94c2-9ae7f5d49bcd.jpg to ../../../../tmp/andre-dataset/faces/f685cea0-d277-4624-94c2-9ae7f5d49bcd.jpg\n",
      "download: s3://andre-imageclassifier-dataset/public/andre-dataset/remotes/5494cbbc-b79d-4f3c-8cc4-f1122c2173e7.jpg to ../../../../tmp/andre-dataset/remotes/5494cbbc-b79d-4f3c-8cc4-f1122c2173e7.jpg\n",
      "download: s3://andre-imageclassifier-dataset/public/andre-dataset/remotes/3b14fb84-1b69-48bc-950a-59ad90655836.jpg to ../../../../tmp/andre-dataset/remotes/3b14fb84-1b69-48bc-950a-59ad90655836.jpg\n",
      "download: s3://andre-imageclassifier-dataset/public/andre-dataset/remotes/5cadb14d-7328-43c6-92ed-83152c714e5a.jpg to ../../../../tmp/andre-dataset/remotes/5cadb14d-7328-43c6-92ed-83152c714e5a.jpg\n",
      "download: s3://andre-imageclassifier-dataset/public/andre-dataset/remotes/671102b7-29c7-4bb9-994c-4779aa8bc536.jpg to ../../../../tmp/andre-dataset/remotes/671102b7-29c7-4bb9-994c-4779aa8bc536.jpg\n",
      "download: s3://andre-imageclassifier-dataset/public/andre-dataset/remotes/7114ac5c-482c-42ff-97d1-45982ec9566f.jpg to ../../../../tmp/andre-dataset/remotes/7114ac5c-482c-42ff-97d1-45982ec9566f.jpg\n",
      "download: s3://andre-imageclassifier-dataset/public/andre-dataset/remotes/61c70f94-7156-4911-b9e0-8ccafe1badb3.jpg to ../../../../tmp/andre-dataset/remotes/61c70f94-7156-4911-b9e0-8ccafe1badb3.jpg\n",
      "download: s3://andre-imageclassifier-dataset/public/andre-dataset/remotes/63b60c01-b810-44f8-a57e-3a997bd2a0f1.jpg to ../../../../tmp/andre-dataset/remotes/63b60c01-b810-44f8-a57e-3a997bd2a0f1.jpg\n",
      "download: s3://andre-imageclassifier-dataset/public/andre-dataset/remotes/86dece86-ad17-481a-bd84-455c668b8460.jpg to ../../../../tmp/andre-dataset/remotes/86dece86-ad17-481a-bd84-455c668b8460.jpg\n",
      "download: s3://andre-imageclassifier-dataset/public/andre-dataset/faces/fcb84fbb-4741-478b-969a-8b28a9ff06c6.jpg to ../../../../tmp/andre-dataset/faces/fcb84fbb-4741-478b-969a-8b28a9ff06c6.jpg\n",
      "download: s3://andre-imageclassifier-dataset/public/andre-dataset/remotes/82c68e1a-5f71-4a2b-8bfc-b37632129f2d.jpg to ../../../../tmp/andre-dataset/remotes/82c68e1a-5f71-4a2b-8bfc-b37632129f2d.jpg\n",
      "download: s3://andre-imageclassifier-dataset/public/andre-dataset/remotes/88232fe1-4a37-4657-a3d2-52b966f17d20.jpg to ../../../../tmp/andre-dataset/remotes/88232fe1-4a37-4657-a3d2-52b966f17d20.jpg\n",
      "download: s3://andre-imageclassifier-dataset/public/andre-dataset/remotes/3df9641a-8383-407f-9880-a3e8abfa915e.jpg to ../../../../tmp/andre-dataset/remotes/3df9641a-8383-407f-9880-a3e8abfa915e.jpg\n",
      "download: s3://andre-imageclassifier-dataset/public/andre-dataset/remotes/802b98d6-9ab9-4214-810b-7caaec959ae5.jpg to ../../../../tmp/andre-dataset/remotes/802b98d6-9ab9-4214-810b-7caaec959ae5.jpg\n",
      "download: s3://andre-imageclassifier-dataset/public/andre-dataset/remotes/a02e9d79-5791-41cd-8ca1-bb3c1d249eee.jpg to ../../../../tmp/andre-dataset/remotes/a02e9d79-5791-41cd-8ca1-bb3c1d249eee.jpg\n",
      "download: s3://andre-imageclassifier-dataset/public/andre-dataset/remotes/9cf6c9a9-eecf-4084-a95b-59cffefaca88.jpg to ../../../../tmp/andre-dataset/remotes/9cf6c9a9-eecf-4084-a95b-59cffefaca88.jpg\n",
      "download: s3://andre-imageclassifier-dataset/public/andre-dataset/remotes/b3baa65d-23d8-4abb-b838-96fc6e0929a1.jpg to ../../../../tmp/andre-dataset/remotes/b3baa65d-23d8-4abb-b838-96fc6e0929a1.jpg\n",
      "download: s3://andre-imageclassifier-dataset/public/andre-dataset/remotes/ac06d985-71c8-468c-9875-7116acf19519.jpg to ../../../../tmp/andre-dataset/remotes/ac06d985-71c8-468c-9875-7116acf19519.jpg\n",
      "download: s3://andre-imageclassifier-dataset/public/andre-dataset/remotes/acf3c48e-61bd-4272-9915-20478cecd9f3.jpg to ../../../../tmp/andre-dataset/remotes/acf3c48e-61bd-4272-9915-20478cecd9f3.jpg\n",
      "download: s3://andre-imageclassifier-dataset/public/andre-dataset/remotes/ac1ad04f-07ff-403d-9ba5-a9a7612211ea.jpg to ../../../../tmp/andre-dataset/remotes/ac1ad04f-07ff-403d-9ba5-a9a7612211ea.jpg\n",
      "download: s3://andre-imageclassifier-dataset/public/andre-dataset/remotes/896defa0-dc95-4455-a39e-03c9fa759f21.jpg to ../../../../tmp/andre-dataset/remotes/896defa0-dc95-4455-a39e-03c9fa759f21.jpg\n",
      "download: s3://andre-imageclassifier-dataset/public/andre-dataset/remotes/c36e98d8-d6e0-4af4-b74b-bc0b7aa203a2.jpg to ../../../../tmp/andre-dataset/remotes/c36e98d8-d6e0-4af4-b74b-bc0b7aa203a2.jpg\n",
      "download: s3://andre-imageclassifier-dataset/public/andre-dataset/remotes/b609d934-c35c-46a9-8451-ac650e1e35d0.jpg to ../../../../tmp/andre-dataset/remotes/b609d934-c35c-46a9-8451-ac650e1e35d0.jpg\n",
      "download: s3://andre-imageclassifier-dataset/public/andre-dataset/remotes/d2bf4fe5-be84-412e-8ec4-1e05eddf296b.jpg to ../../../../tmp/andre-dataset/remotes/d2bf4fe5-be84-412e-8ec4-1e05eddf296b.jpg\n",
      "download: s3://andre-imageclassifier-dataset/public/andre-dataset/remotes/de9bd79f-c035-4942-977e-bf0606ad2817.jpg to ../../../../tmp/andre-dataset/remotes/de9bd79f-c035-4942-977e-bf0606ad2817.jpg\n",
      "download: s3://andre-imageclassifier-dataset/public/andre-dataset/remotes/de47a28b-9b90-48b0-8fc4-0bfec0c8c166.jpg to ../../../../tmp/andre-dataset/remotes/de47a28b-9b90-48b0-8fc4-0bfec0c8c166.jpg\n",
      "download: s3://andre-imageclassifier-dataset/public/andre-dataset/remotes/c202e484-e83c-4887-b92d-2235d27e7bc2.jpg to ../../../../tmp/andre-dataset/remotes/c202e484-e83c-4887-b92d-2235d27e7bc2.jpg\n",
      "download: s3://andre-imageclassifier-dataset/public/andre-dataset/toys/12446c1b-cc39-482c-872e-9e3e3436c804.jpg to ../../../../tmp/andre-dataset/toys/12446c1b-cc39-482c-872e-9e3e3436c804.jpg\n",
      "download: s3://andre-imageclassifier-dataset/public/andre-dataset/toys/03a32d37-5da5-4888-94c3-288b0c4fbdd3.jpg to ../../../../tmp/andre-dataset/toys/03a32d37-5da5-4888-94c3-288b0c4fbdd3.jpg\n",
      "download: s3://andre-imageclassifier-dataset/public/andre-dataset/toys/00e0b0d7-ab4d-4e4c-a07b-fe84e5ade770.jpg to ../../../../tmp/andre-dataset/toys/00e0b0d7-ab4d-4e4c-a07b-fe84e5ade770.jpg\n",
      "download: s3://andre-imageclassifier-dataset/public/andre-dataset/toys/145a3223-cb4a-45c7-a281-51e75f031cb5.jpg to ../../../../tmp/andre-dataset/toys/145a3223-cb4a-45c7-a281-51e75f031cb5.jpg\n",
      "download: s3://andre-imageclassifier-dataset/public/andre-dataset/toys/131d9fde-a867-4e43-81a0-415a4e3f64d7.jpg to ../../../../tmp/andre-dataset/toys/131d9fde-a867-4e43-81a0-415a4e3f64d7.jpg\n",
      "download: s3://andre-imageclassifier-dataset/public/andre-dataset/toys/1ba325aa-41d2-44f8-9719-e2bd8e7d749d.jpg to ../../../../tmp/andre-dataset/toys/1ba325aa-41d2-44f8-9719-e2bd8e7d749d.jpg\n",
      "download: s3://andre-imageclassifier-dataset/public/andre-dataset/toys/18309fce-2f2c-49ed-803f-fe7d7a2695ef.jpg to ../../../../tmp/andre-dataset/toys/18309fce-2f2c-49ed-803f-fe7d7a2695ef.jpg\n",
      "download: s3://andre-imageclassifier-dataset/public/andre-dataset/remotes/e05551ff-9b43-4463-9acd-d110eb33f766.jpg to ../../../../tmp/andre-dataset/remotes/e05551ff-9b43-4463-9acd-d110eb33f766.jpg\n",
      "download: s3://andre-imageclassifier-dataset/public/andre-dataset/toys/1b99eb32-d155-4580-ab2d-90d2717e113c.jpg to ../../../../tmp/andre-dataset/toys/1b99eb32-d155-4580-ab2d-90d2717e113c.jpg\n",
      "download: s3://andre-imageclassifier-dataset/public/andre-dataset/remotes/ec28d3c4-35e8-4462-b4cc-750cc8adb05b.jpg to ../../../../tmp/andre-dataset/remotes/ec28d3c4-35e8-4462-b4cc-750cc8adb05b.jpg\n",
      "download: s3://andre-imageclassifier-dataset/public/andre-dataset/toys/3621acb2-ed86-46e9-aef7-5f4d96707fb1.jpg to ../../../../tmp/andre-dataset/toys/3621acb2-ed86-46e9-aef7-5f4d96707fb1.jpg\n",
      "download: s3://andre-imageclassifier-dataset/public/andre-dataset/remotes/e42734bd-bc7d-40bc-a833-362f434ad5b1.jpg to ../../../../tmp/andre-dataset/remotes/e42734bd-bc7d-40bc-a833-362f434ad5b1.jpg\n",
      "download: s3://andre-imageclassifier-dataset/public/andre-dataset/toys/3f21891c-5f3a-486b-91f0-a946fa103713.jpg to ../../../../tmp/andre-dataset/toys/3f21891c-5f3a-486b-91f0-a946fa103713.jpg\n",
      "download: s3://andre-imageclassifier-dataset/public/andre-dataset/toys/1c29accf-2b09-45a8-abab-26c411a8b72f.jpg to ../../../../tmp/andre-dataset/toys/1c29accf-2b09-45a8-abab-26c411a8b72f.jpg\n",
      "download: s3://andre-imageclassifier-dataset/public/andre-dataset/toys/4d38910c-8224-4fa2-9a94-b79a7e058453.jpg to ../../../../tmp/andre-dataset/toys/4d38910c-8224-4fa2-9a94-b79a7e058453.jpg\n",
      "download: s3://andre-imageclassifier-dataset/public/andre-dataset/toys/32627663-83a6-4f0c-8fdc-b15295f73a0f.jpg to ../../../../tmp/andre-dataset/toys/32627663-83a6-4f0c-8fdc-b15295f73a0f.jpg\n",
      "download: s3://andre-imageclassifier-dataset/public/andre-dataset/toys/626e4b01-f4ae-4b7c-9f02-645edba5006d.jpg to ../../../../tmp/andre-dataset/toys/626e4b01-f4ae-4b7c-9f02-645edba5006d.jpg\n",
      "download: s3://andre-imageclassifier-dataset/public/andre-dataset/toys/4ec3f1cf-f82d-4736-b701-68c9154e4a81.jpg to ../../../../tmp/andre-dataset/toys/4ec3f1cf-f82d-4736-b701-68c9154e4a81.jpg\n",
      "download: s3://andre-imageclassifier-dataset/public/andre-dataset/toys/550cfacf-eeba-425f-b23f-2efeddd27be4.jpg to ../../../../tmp/andre-dataset/toys/550cfacf-eeba-425f-b23f-2efeddd27be4.jpg\n",
      "download: s3://andre-imageclassifier-dataset/public/andre-dataset/toys/53ccfc9f-92bc-4107-830a-150e05a7af1e.jpg to ../../../../tmp/andre-dataset/toys/53ccfc9f-92bc-4107-830a-150e05a7af1e.jpg\n",
      "download: s3://andre-imageclassifier-dataset/public/andre-dataset/toys/6af54718-4897-49e9-a41a-9c1090fcbc59.jpg to ../../../../tmp/andre-dataset/toys/6af54718-4897-49e9-a41a-9c1090fcbc59.jpg\n",
      "download: s3://andre-imageclassifier-dataset/public/andre-dataset/toys/73e80afa-0730-4770-81ee-e5e72cd21d8b.jpg to ../../../../tmp/andre-dataset/toys/73e80afa-0730-4770-81ee-e5e72cd21d8b.jpg\n",
      "download: s3://andre-imageclassifier-dataset/public/andre-dataset/toys/6db1a0ee-47ea-40c9-b866-85b632384f38.jpg to ../../../../tmp/andre-dataset/toys/6db1a0ee-47ea-40c9-b866-85b632384f38.jpg\n",
      "download: s3://andre-imageclassifier-dataset/public/andre-dataset/toys/788d52d9-5ab6-4a25-a2df-885c4dba7265.jpg to ../../../../tmp/andre-dataset/toys/788d52d9-5ab6-4a25-a2df-885c4dba7265.jpg\n",
      "download: s3://andre-imageclassifier-dataset/public/andre-dataset/toys/789e56f9-ff91-415a-a106-f12399e354d7.jpg to ../../../../tmp/andre-dataset/toys/789e56f9-ff91-415a-a106-f12399e354d7.jpg\n",
      "download: s3://andre-imageclassifier-dataset/public/andre-dataset/toys/890844bf-c20f-45d5-af4d-9c6231b324ab.jpg to ../../../../tmp/andre-dataset/toys/890844bf-c20f-45d5-af4d-9c6231b324ab.jpg\n",
      "download: s3://andre-imageclassifier-dataset/public/andre-dataset/toys/84129f2d-694e-4cd3-821b-9adf07f3b402.jpg to ../../../../tmp/andre-dataset/toys/84129f2d-694e-4cd3-821b-9adf07f3b402.jpg\n",
      "download: s3://andre-imageclassifier-dataset/public/andre-dataset/toys/52dab24c-4def-4526-bce2-b6c20f1ef133.jpg to ../../../../tmp/andre-dataset/toys/52dab24c-4def-4526-bce2-b6c20f1ef133.jpg\n",
      "download: s3://andre-imageclassifier-dataset/public/andre-dataset/toys/a5d1cfd9-348e-452b-b1db-009985a6d6f2.jpg to ../../../../tmp/andre-dataset/toys/a5d1cfd9-348e-452b-b1db-009985a6d6f2.jpg\n",
      "download: s3://andre-imageclassifier-dataset/public/andre-dataset/toys/9574b701-6aa2-41c0-a654-2e9be3e4bf8d.jpg to ../../../../tmp/andre-dataset/toys/9574b701-6aa2-41c0-a654-2e9be3e4bf8d.jpg\n",
      "download: s3://andre-imageclassifier-dataset/public/andre-dataset/toys/89349739-d5a6-4d29-b790-2b900ac9fb04.jpg to ../../../../tmp/andre-dataset/toys/89349739-d5a6-4d29-b790-2b900ac9fb04.jpg\n",
      "download: s3://andre-imageclassifier-dataset/public/andre-dataset/toys/90591692-8a40-42cd-bc21-55211963d90c.jpg to ../../../../tmp/andre-dataset/toys/90591692-8a40-42cd-bc21-55211963d90c.jpg\n",
      "download: s3://andre-imageclassifier-dataset/public/andre-dataset/toys/96f72617-e89e-409d-acc8-bb43de13bbfe.jpg to ../../../../tmp/andre-dataset/toys/96f72617-e89e-409d-acc8-bb43de13bbfe.jpg\n",
      "download: s3://andre-imageclassifier-dataset/public/andre-dataset/toys/a6d64df2-9577-4c74-9b12-99763d1890d8.jpg to ../../../../tmp/andre-dataset/toys/a6d64df2-9577-4c74-9b12-99763d1890d8.jpg\n",
      "download: s3://andre-imageclassifier-dataset/public/andre-dataset/toys/ae0b45d9-1977-4c50-9c4e-90fdc1c74e8e.jpg to ../../../../tmp/andre-dataset/toys/ae0b45d9-1977-4c50-9c4e-90fdc1c74e8e.jpg\n",
      "download: s3://andre-imageclassifier-dataset/public/andre-dataset/toys/91b1ff41-68ec-4aff-a74e-f7fcdee82b76.jpg to ../../../../tmp/andre-dataset/toys/91b1ff41-68ec-4aff-a74e-f7fcdee82b76.jpg\n",
      "download: s3://andre-imageclassifier-dataset/public/andre-dataset/toys/b2acdb71-9098-4f96-870b-3fb8c2a81d9f.jpg to ../../../../tmp/andre-dataset/toys/b2acdb71-9098-4f96-870b-3fb8c2a81d9f.jpg\n",
      "download: s3://andre-imageclassifier-dataset/public/andre-dataset/toys/b603067c-117b-4685-8f06-a290bf73370c.jpg to ../../../../tmp/andre-dataset/toys/b603067c-117b-4685-8f06-a290bf73370c.jpg\n",
      "download: s3://andre-imageclassifier-dataset/public/andre-dataset/toys/c9b4e57f-0ee7-43af-919d-51d7a32925cc.jpg to ../../../../tmp/andre-dataset/toys/c9b4e57f-0ee7-43af-919d-51d7a32925cc.jpg\n",
      "download: s3://andre-imageclassifier-dataset/public/andre-dataset/toys/b752b256-ed92-4ab8-bb6f-90e8f5a4ec70.jpg to ../../../../tmp/andre-dataset/toys/b752b256-ed92-4ab8-bb6f-90e8f5a4ec70.jpg\n",
      "download: s3://andre-imageclassifier-dataset/public/andre-dataset/toys/c07540b2-145e-48db-b574-767f6a90375d.jpg to ../../../../tmp/andre-dataset/toys/c07540b2-145e-48db-b574-767f6a90375d.jpg\n",
      "download: s3://andre-imageclassifier-dataset/public/andre-dataset/toys/c35c0889-a173-4e06-ba75-1a4ab315ef75.jpg to ../../../../tmp/andre-dataset/toys/c35c0889-a173-4e06-ba75-1a4ab315ef75.jpg\n",
      "download: s3://andre-imageclassifier-dataset/public/andre-dataset/toys/fd8e354b-9c06-4276-acf6-9b4383a1aa12.jpg to ../../../../tmp/andre-dataset/toys/fd8e354b-9c06-4276-acf6-9b4383a1aa12.jpg\n",
      "download: s3://andre-imageclassifier-dataset/public/andre-dataset/toys/decd218a-adaa-4443-b3e7-63829a63cfea.jpg to ../../../../tmp/andre-dataset/toys/decd218a-adaa-4443-b3e7-63829a63cfea.jpg\n",
      "download: s3://andre-imageclassifier-dataset/public/andre-dataset/toys/da277dc5-3c32-486f-a6eb-dd6be95f2425.jpg to ../../../../tmp/andre-dataset/toys/da277dc5-3c32-486f-a6eb-dd6be95f2425.jpg\n",
      "download: s3://andre-imageclassifier-dataset/public/andre-dataset/toys/e86b4eac-5790-47a1-a5b0-e7d31ea122ed.jpg to ../../../../tmp/andre-dataset/toys/e86b4eac-5790-47a1-a5b0-e7d31ea122ed.jpg\n",
      "download: s3://andre-imageclassifier-dataset/public/andre-dataset/toys/cbff2bcd-44f3-473f-a218-68ff09a2d37b.jpg to ../../../../tmp/andre-dataset/toys/cbff2bcd-44f3-473f-a218-68ff09a2d37b.jpg\n",
      "download: s3://andre-imageclassifier-dataset/public/andre-dataset/toys/b73e7251-6cce-4ad6-8b72-0f29b5779b34.jpg to ../../../../tmp/andre-dataset/toys/b73e7251-6cce-4ad6-8b72-0f29b5779b34.jpg\n"
     ]
    }
   ],
   "source": [
    "# Pull our images from S3\n",
    "!aws s3 sync s3://$S3_DATA_BUCKET_NAME/public/$DATASET_NAME $BASE_DIR/$DATASET_NAME"
   ]
  },
  {
   "cell_type": "markdown",
   "metadata": {},
   "source": [
    "### Create RecordIO files from our training images\n",
    "The `im2rec.py` script can create LST files and/or RecordIO files from our training data. \n",
    "\n",
    "More info here: https://mxnet.incubator.apache.org/versions/master/faq/recordio.html"
   ]
  },
  {
   "cell_type": "code",
   "execution_count": 7,
   "metadata": {},
   "outputs": [
    {
     "name": "stdout",
     "output_type": "stream",
     "text": [
      "Creating LST files\n",
      "Label classes:\n",
      "books 0\n",
      "faces 1\n",
      "remotes 2\n",
      "toys 3\n",
      "Creating RecordIO files\n",
      "Creating .rec file from /tmp/andre-dataset_train.lst in /tmp\n",
      "time: 0.01400303840637207  count: 0\n",
      "Creating .rec file from /tmp/andre-dataset_test.lst in /tmp\n",
      "time: 0.006434917449951172  count: 0\n",
      "-rw-rw-r-- 1 ec2-user ec2-user 914K Oct 28 17:06 andre-dataset_test.rec\n",
      "-rw-rw-r-- 1 ec2-user ec2-user 2.1M Oct 28 17:06 andre-dataset_train.rec\n"
     ]
    },
    {
     "name": "stderr",
     "output_type": "stream",
     "text": [
      "/home/ec2-user/anaconda3/envs/mxnet_p36/lib/python3.6/site-packages/requests/__init__.py:91: RequestsDependencyWarning: urllib3 (1.25.11) or chardet (3.0.4) doesn't match a supported version!\n",
      "  RequestsDependencyWarning)\n",
      "/home/ec2-user/anaconda3/envs/mxnet_p36/lib/python3.6/site-packages/requests/__init__.py:91: RequestsDependencyWarning: urllib3 (1.25.11) or chardet (3.0.4) doesn't match a supported version!\n",
      "  RequestsDependencyWarning)\n",
      "/home/ec2-user/anaconda3/envs/mxnet_p36/lib/python3.6/site-packages/requests/__init__.py:91: RequestsDependencyWarning: urllib3 (1.25.11) or chardet (3.0.4) doesn't match a supported version!\n",
      "  RequestsDependencyWarning)\n"
     ]
    }
   ],
   "source": [
    "%%bash\n",
    "# Use the IM2REC script to convert our images into RecordIO files\n",
    "\n",
    "# Clean up our working dir of existing LST and REC files\n",
    "cd $BASE_DIR\n",
    "rm *.rec\n",
    "rm *.lst\n",
    "\n",
    "# First we need to create two LST files (training and test lists), noting the correct label class for each image\n",
    "# We'll also save the output of the LST files command, since it includes a list of all of our label classes\n",
    "echo \"Creating LST files\"\n",
    "python $IM2REC --list --recursive --pass-through --test-ratio=0.3 --train-ratio=0.7 $DATASET_NAME $DATASET_NAME > ${DATASET_NAME}_classes\n",
    "\n",
    "echo \"Label classes:\"\n",
    "cat ${DATASET_NAME}_classes\n",
    "\n",
    "# Then we create RecordIO files from the LST files\n",
    "echo \"Creating RecordIO files\"\n",
    "python $IM2REC --num-thread=4 ${DATASET_NAME}_train.lst $DATASET_NAME\n",
    "python $IM2REC --num-thread=4 ${DATASET_NAME}_test.lst $DATASET_NAME\n",
    "ls -lh *.rec"
   ]
  },
  {
   "cell_type": "markdown",
   "metadata": {},
   "source": [
    "### Upload our training and test data RecordIO files so we can train with them\n",
    "Now that we have our training and test .rec files, we upload them to S3 so SageMaker can use them for training"
   ]
  },
  {
   "cell_type": "code",
   "execution_count": 8,
   "metadata": {},
   "outputs": [
    {
     "name": "stdout",
     "output_type": "stream",
     "text": [
      "delete: s3://sagemaker-us-east-1-603555443475/andre-dataset/train/andre-dataset_train.rec\n",
      "delete: s3://sagemaker-us-east-1-603555443475/andre-dataset/validation/andre-dataset_test.rec\n",
      "upload: ../../../../tmp/andre-dataset_train.rec to s3://sagemaker-us-east-1-603555443475/andre-dataset/train/andre-dataset_train.rec\n",
      "upload: ../../../../tmp/andre-dataset_test.rec to s3://sagemaker-us-east-1-603555443475/andre-dataset/validation/andre-dataset_test.rec\n"
     ]
    }
   ],
   "source": [
    "# Upload our train and test RecordIO files to S3 in the bucket that our sagemaker session is using\n",
    "bucket = sess.default_bucket()\n",
    "\n",
    "s3train_path = 's3://{}/{}/train/'.format(bucket, dataset_name)\n",
    "s3validation_path = 's3://{}/{}/validation/'.format(bucket, dataset_name)\n",
    "\n",
    "# Clean up any existing data\n",
    "!aws s3 rm s3://{bucket}/{dataset_name}/train --recursive\n",
    "!aws s3 rm s3://{bucket}/{dataset_name}/validation --recursive\n",
    "\n",
    "# Upload the rec files to the train and validation channels\n",
    "!aws s3 cp /tmp/{dataset_name}_train.rec $s3train_path\n",
    "!aws s3 cp /tmp/{dataset_name}_test.rec $s3validation_path"
   ]
  },
  {
   "cell_type": "markdown",
   "metadata": {},
   "source": [
    "### Configure the data for our model training to use\n",
    "Finally, we tell SageMaker where to find these RecordIO files to use for training"
   ]
  },
  {
   "cell_type": "code",
   "execution_count": 9,
   "metadata": {},
   "outputs": [],
   "source": [
    "train_data = sagemaker.session.s3_input(\n",
    "    s3train_path, \n",
    "    distribution='FullyReplicated', \n",
    "    content_type='application/x-recordio', \n",
    "    s3_data_type='S3Prefix'\n",
    ")\n",
    "\n",
    "validation_data = sagemaker.session.s3_input(\n",
    "    s3validation_path, \n",
    "    distribution='FullyReplicated', \n",
    "    content_type='application/x-recordio', \n",
    "    s3_data_type='S3Prefix'\n",
    ")\n",
    "\n",
    "data_channels = {'train': train_data, 'validation': validation_data}"
   ]
  },
  {
   "cell_type": "markdown",
   "metadata": {},
   "source": [
    "## Training\n",
    "Now it's time to train our model!"
   ]
  },
  {
   "cell_type": "markdown",
   "metadata": {},
   "source": [
    "### Create an image classifier object with some base configuration\n",
    "More info here: https://sagemaker.readthedocs.io/en/stable/estimators.html#sagemaker.estimator.Estimator"
   ]
  },
  {
   "cell_type": "code",
   "execution_count": 10,
   "metadata": {},
   "outputs": [],
   "source": [
    "s3_output_location = 's3://{}/{}/output'.format(bucket, dataset_name)\n",
    "\n",
    "image_classifier = sagemaker.estimator.Estimator(\n",
    "    training_image,\n",
    "    role, \n",
    "    train_instance_count=1, \n",
    "    train_instance_type='ml.p3.2xlarge',\n",
    "    output_path=s3_output_location,\n",
    "    sagemaker_session=sess\n",
    ")"
   ]
  },
  {
   "cell_type": "markdown",
   "metadata": {},
   "source": [
    "### Set some training hyperparameters\n",
    "\n",
    "Finally, before we train, we provide some additional configuration parameters for the training.\n",
    "\n",
    "More info here: https://docs.aws.amazon.com/sagemaker/latest/dg/IC-Hyperparameter.html"
   ]
  },
  {
   "cell_type": "code",
   "execution_count": 11,
   "metadata": {},
   "outputs": [
    {
     "data": {
      "text/plain": [
       "{'use_pretrained_model': 1,\n",
       " 'image_shape': '3,224,224',\n",
       " 'num_classes': 5,\n",
       " 'num_training_samples': 105,\n",
       " 'learning_rate': 0.001,\n",
       " 'mini_batch_size': 5}"
      ]
     },
     "execution_count": 11,
     "metadata": {},
     "output_type": "execute_result"
    }
   ],
   "source": [
    "num_classes=! ls -l {base_dir}/{dataset_name} | wc -l\n",
    "num_classes=int(num_classes[0]) - 1\n",
    "\n",
    "num_training_samples=! cat {base_dir}/{dataset_name}_train.lst | wc -l\n",
    "num_training_samples = int(num_training_samples[0])\n",
    "\n",
    "# Learn more about the Sagemaker built-in Image Classifier hyperparameters here: https://docs.aws.amazon.com/sagemaker/latest/dg/IC-Hyperparameter.html\n",
    "\n",
    "# These hyperparameters we won't want to change, as they define things like\n",
    "# the size of the images we'll be sending for input, the number of training classes we have, etc.\n",
    "base_hyperparameters=dict(\n",
    "    use_pretrained_model=1,\n",
    "    image_shape='3,224,224',\n",
    "    num_classes=num_classes,\n",
    "    num_training_samples=num_training_samples,\n",
    ")\n",
    "\n",
    "# These are hyperparameters we may want to tune, as they can affect the model training success:\n",
    "hyperparameters={\n",
    "    **base_hyperparameters, \n",
    "    **dict(\n",
    "        learning_rate=0.001,\n",
    "        mini_batch_size=5,\n",
    "    )\n",
    "}\n",
    "\n",
    "\n",
    "image_classifier.set_hyperparameters(**hyperparameters)\n",
    "\n",
    "hyperparameters"
   ]
  },
  {
   "cell_type": "markdown",
   "metadata": {},
   "source": [
    "### Start the training\n",
    "Train our model!\n",
    "\n",
    "This will take some time because it's provisioning a new container runtime to train our model, then the actual training happens, then the trained model gets uploaded to S3 and the container is shut down.\n",
    "\n",
    "More info here: https://sagemaker.readthedocs.io/en/stable/estimators.html#sagemaker.estimator.Estimator.fit"
   ]
  },
  {
   "cell_type": "code",
   "execution_count": null,
   "metadata": {},
   "outputs": [
    {
     "name": "stdout",
     "output_type": "stream",
     "text": [
      "2020-10-28 17:07:14 Starting - Starting the training job...\n",
      "2020-10-28 17:07:22 Starting - Launching requested ML instances......\n",
      "2020-10-28 17:08:39 Starting - Preparing the instances for training........"
     ]
    }
   ],
   "source": [
    "%%time\n",
    "\n",
    "import time\n",
    "now = str(int(time.time()))\n",
    "training_job_name = 'IC-' + dataset_name.replace('_', '-') + '-' + now\n",
    "\n",
    "image_classifier.fit(inputs=data_channels, job_name=training_job_name, logs=True)\n",
    "\n",
    "job = image_classifier.latest_training_job\n",
    "model_path = f\"{base_dir}/{job.name}\"\n",
    "\n",
    "print(f\"\\n\\n Finished training! The model is available for download at: {image_classifier.output_path}/{job.name}/output/model.tar.gz\")"
   ]
  },
  {
   "cell_type": "markdown",
   "metadata": {},
   "source": [
    "## Deploy the trained model\n",
    "Once a model has been trained, we can use the same `image_classifier` object to create a deployed, fully-managed endpoint.}\n",
    "\n",
    "More info here: https://sagemaker.readthedocs.io/en/stable/estimators.html#sagemaker.estimator.Estimator.deploy"
   ]
  },
  {
   "cell_type": "code",
   "execution_count": null,
   "metadata": {},
   "outputs": [],
   "source": [
    "%%time\n",
    "# Deploying a model to an endpoint takes a few minutes to complete\n",
    "\n",
    "deployed_endpoint = image_classifier.deploy(\n",
    "    initial_instance_count = 1,\n",
    "    instance_type = 'ml.c5.9xlarge'\n",
    ")"
   ]
  },
  {
   "cell_type": "markdown",
   "metadata": {},
   "source": [
    "### Clean up\n",
    "\n",
    "When we're done with the endpoint, we can just delete it and the backing instances will be released.  Run the following cell to delete the endpoint."
   ]
  },
  {
   "cell_type": "code",
   "execution_count": null,
   "metadata": {},
   "outputs": [],
   "source": [
    "deployed_endpoint.delete_endpoint()"
   ]
  },
  {
   "cell_type": "markdown",
   "metadata": {},
   "source": [
    "## Calling a deployed endpoint from Python code\n",
    "\n",
    "If you want to try using a deployed endpoint from Python, here's a function that you can use. It takes in a path to the image you'd like to classify, and a list of all the classes used for training."
   ]
  },
  {
   "cell_type": "code",
   "execution_count": null,
   "metadata": {},
   "outputs": [],
   "source": [
    "import matplotlib.pyplot as plt\n",
    "from PIL import Image\n",
    "import json\n",
    "import numpy as np\n",
    "import os\n",
    "\n",
    "import matplotlib.pyplot as plt\n",
    "from PIL import Image\n",
    "\n",
    "\n",
    "\n",
    "def classify_deployed(file_name, classes):\n",
    "    payload = None\n",
    "    with open(file_name, 'rb') as f:\n",
    "        payload = f.read()\n",
    "        payload = bytearray(payload)\n",
    "\n",
    "    deployed_endpoint.content_type = 'application/x-image'\n",
    "    ##print(payload)\n",
    "    result = json.loads(deployed_endpoint.predict(payload))\n",
    "    best_prob_index = np.argmax(result)\n",
    "    print(\"best_prob_index: \")\n",
    "    print(best_prob_index)\n",
    "    \n",
    "    print(\"classes: \")\n",
    "    print(classes)\n",
    "    \n",
    "    print(\"Result:\")\n",
    "    print(result)\n",
    "    \n",
    "    print(classes[best_prob_index])\n",
    "\n",
    "    return (classes[best_prob_index], result[best_prob_index])\n",
    "\n",
    "def display_image(file_name):\n",
    "    pil_im = Image.open(file_name) #Take jpg + png\n",
    "    im_array = np.asarray(pil_im)\n",
    "    plt.imshow(im_array)\n",
    "    plt.show()\n",
    "\n"
   ]
  },
  {
   "cell_type": "code",
   "execution_count": null,
   "metadata": {},
   "outputs": [],
   "source": [
    "classes_input_var = [\"books\", \"faces\", \"remotes\"]\n",
    "print(\"\\nFaces Example - Miguel\")\n",
    "display_image('/tmp/andre-dataset/faces/2b5df5f4-d209-4ec3-af1f-9cf21fcb72e5.jpg')\n",
    "print(classify_deployed(\"/tmp/andre-dataset/faces/2b5df5f4-d209-4ec3-af1f-9cf21fcb72e5.jpg\", classes_input_var))\n",
    "\n",
    "print(\"\\nFaces Example - Gabi\")\n",
    "display_image('/tmp/andre-dataset/faces/0e09dfb8-4604-441e-8724-af8a0cf2b454.jpg')\n",
    "print(classify_deployed(\"/tmp/andre-dataset/faces/0e09dfb8-4604-441e-8724-af8a0cf2b454.jpg\", classes_input_var))\n",
    "\n",
    "print(\"\\nBooks Example\")\n",
    "display_image('/tmp/andre-dataset/books/1be8b224-76a9-432d-b77a-af613a0f46f9.jpg')\n",
    "print(classify_deployed(\"/tmp/andre-dataset/books/1be8b224-76a9-432d-b77a-af613a0f46f9.jpg\", classes_input_var))\n",
    "\n",
    "print(\"\\nRemotes Example\")\n",
    "display_image('/tmp/andre-dataset/remotes/0328aab7-5320-4b72-b618-97d73e998451.jpg')\n",
    "print(classify_deployed(\"/tmp/andre-dataset/remotes/0328aab7-5320-4b72-b618-97d73e998451.jpg\", classes_input_var))\n",
    "\n",
    "print(\"\\Andre1 Example\")\n",
    "display_image('/tmp/andre-dataset/faces/aboavent1.png')\n",
    "print(classify_deployed(\"/tmp/andre-dataset/faces/aboavent1.png\", classes_input_var))\n",
    "\n",
    "print(\"\\Andre2 Example\")\n",
    "display_image('/tmp/andre-dataset/faces/aboavent2.jpeg')\n",
    "print(classify_deployed(\"/tmp/andre-dataset/faces/aboavent2.jpeg\", classes_input_var))\n"
   ]
  },
  {
   "cell_type": "code",
   "execution_count": null,
   "metadata": {},
   "outputs": [],
   "source": [
    "print(\"\\Andre Example\")\n",
    "display_image('/tmp/andre-dataset/faces/aboavent2.jpeg')\n",
    "print(classify_deployed(\"/tmp/andre-dataset/faces/aboavent2.jpeg\", classes_input_var))"
   ]
  },
  {
   "cell_type": "markdown",
   "metadata": {},
   "source": [
    "## (Optional) Perform Hyperparameter Tuning\n",
    "\n",
    "Often, you might not know which values for hyperparameters like `learning_rate` and `mini_batch_size` will yield acceptible results. Traditionally, this meant manually running many training jobs with different hyperparameter values, looking at each trained model's performance, and then picking a winner. \n",
    "\n",
    "This type of manual tuning is _very_ time consuming, so you can automate this process using automatic model tuning with SageMaker. Here's some example code to illustrate how to start one of these jobs using the SageMaker Python SDK.\n",
    "\n",
    "More info here about automatic model tuning: https://docs.aws.amazon.com/sagemaker/latest/dg/automatic-model-tuning.html\n",
    "\n",
    "More info about model tuning for the Image Classification algorithm: https://docs.aws.amazon.com/sagemaker/latest/dg/IC-tuning.html"
   ]
  },
  {
   "cell_type": "code",
   "execution_count": null,
   "metadata": {},
   "outputs": [],
   "source": [
    "from sagemaker.tuner import HyperparameterTuner, IntegerParameter, CategoricalParameter, ContinuousParameter\n",
    "hyperparameter_ranges = {'optimizer': CategoricalParameter(['sgd', 'adam']),\n",
    "                         'learning_rate': ContinuousParameter(0.0001, 0.1),\n",
    "                         'mini_batch_size': IntegerParameter(2, 32),\n",
    "                        }\n",
    "\n",
    "objective_metric_name = 'validation:accuracy'\n",
    "\n",
    "tuner = HyperparameterTuner(image_classifier,\n",
    "                            objective_metric_name,\n",
    "                            hyperparameter_ranges,\n",
    "                            max_jobs=50,\n",
    "                            max_parallel_jobs=2)\n",
    "\n",
    "tuner.fit(inputs=data_channels, logs=True, include_cls_metadata=False)"
   ]
  },
  {
   "cell_type": "markdown",
   "metadata": {},
   "source": [
    "## Great resources to continue your Deep Learning journey\n",
    "\n",
    "[3Blue1Brown’s YouTube series on Neural Networks ~ 60 Minutes](https://www.youtube.com/playlist?list=PLZHQObOWTQDNU6R1_67000Dx_ZCJB-3pi)\n",
    "\n",
    "[Fast.ai’s Practical Deep Learning for Coders ~ 14 Hours](http://www.fast.ai/)\n",
    "    \n",
    "[Amazon's Machine Learning University ~ More than 45 hours of courses, videos, and labs](https://aws.amazon.com/training/learning-paths/machine-learning/)\n",
    "    \n",
    "[Neural Networks and Deep Learning, by Michael Neilsen ~ 6 Chapter Book](http://neuralnetworksanddeeplearning.com/)\n",
    "\n",
    "[Amazon SageMaker - Fully-managed Platform](https://aws.amazon.com/sagemaker/)\n",
    "    \n",
    "[@gabehollombe's](https://twitter.com/gabehollombe) deep learning tools and demos\n",
    "- [Jupyter Notebooks](https://github.com/gabehollombe-aws/jupyter-notebooks)\n",
    "- [Webcam S3 Uploader Tool](https://github.com/gabehollombe-aws/webcam-s3-uploader)\n",
    "- [SageMaker Inference Web Tool](https://github.com/gabehollombe-aws/webcam-sagemaker-inference)\n"
   ]
  },
  {
   "cell_type": "code",
   "execution_count": null,
   "metadata": {},
   "outputs": [],
   "source": []
  }
 ],
 "metadata": {
  "kernelspec": {
   "display_name": "conda_mxnet_p36",
   "language": "python",
   "name": "conda_mxnet_p36"
  },
  "language_info": {
   "codemirror_mode": {
    "name": "ipython",
    "version": 3
   },
   "file_extension": ".py",
   "mimetype": "text/x-python",
   "name": "python",
   "nbconvert_exporter": "python",
   "pygments_lexer": "ipython3",
   "version": "3.6.5"
  },
  "notice": "Copyright 2018 Amazon.com, Inc. or its affiliates. All Rights Reserved.  Licensed under the Apache License, Version 2.0 (the \"License\"). You may not use this file except in compliance with the License. A copy of the License is located at http://aws.amazon.com/apache2.0/ or in the \"license\" file accompanying this file. This file is distributed on an \"AS IS\" BASIS, WITHOUT WARRANTIES OR CONDITIONS OF ANY KIND, either express or implied. See the License for the specific language governing permissions and limitations under the License."
 },
 "nbformat": 4,
 "nbformat_minor": 4
}
